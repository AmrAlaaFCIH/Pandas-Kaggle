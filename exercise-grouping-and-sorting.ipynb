{
 "cells": [
  {
   "cell_type": "markdown",
   "id": "ff87d98d",
   "metadata": {
    "papermill": {
     "duration": 0.005537,
     "end_time": "2022-06-27T23:14:53.914516",
     "exception": false,
     "start_time": "2022-06-27T23:14:53.908979",
     "status": "completed"
    },
    "tags": []
   },
   "source": [
    "**This notebook is an exercise in the [Pandas](https://www.kaggle.com/learn/pandas) course.  You can reference the tutorial at [this link](https://www.kaggle.com/residentmario/grouping-and-sorting).**\n",
    "\n",
    "---\n"
   ]
  },
  {
   "cell_type": "markdown",
   "id": "bba38285",
   "metadata": {
    "papermill": {
     "duration": 0.004402,
     "end_time": "2022-06-27T23:14:53.923510",
     "exception": false,
     "start_time": "2022-06-27T23:14:53.919108",
     "status": "completed"
    },
    "tags": []
   },
   "source": [
    "# Introduction\n",
    "\n",
    "In these exercises we'll apply groupwise analysis to our dataset.\n",
    "\n",
    "Run the code cell below to load the data before running the exercises."
   ]
  },
  {
   "cell_type": "code",
   "execution_count": 1,
   "id": "36628265",
   "metadata": {
    "execution": {
     "iopub.execute_input": "2022-06-27T23:14:53.935963Z",
     "iopub.status.busy": "2022-06-27T23:14:53.934663Z",
     "iopub.status.idle": "2022-06-27T23:14:56.952269Z",
     "shell.execute_reply": "2022-06-27T23:14:56.951034Z"
    },
    "papermill": {
     "duration": 3.026537,
     "end_time": "2022-06-27T23:14:56.955017",
     "exception": false,
     "start_time": "2022-06-27T23:14:53.928480",
     "status": "completed"
    },
    "tags": []
   },
   "outputs": [
    {
     "name": "stdout",
     "output_type": "stream",
     "text": [
      "Setup complete.\n"
     ]
    }
   ],
   "source": [
    "import pandas as pd\n",
    "\n",
    "reviews = pd.read_csv(\"../input/wine-reviews/winemag-data-130k-v2.csv\", index_col=0)\n",
    "#pd.set_option(\"display.max_rows\", 5)\n",
    "\n",
    "from learntools.core import binder; binder.bind(globals())\n",
    "from learntools.pandas.grouping_and_sorting import *\n",
    "print(\"Setup complete.\")"
   ]
  },
  {
   "cell_type": "markdown",
   "id": "605ae82a",
   "metadata": {
    "papermill": {
     "duration": 0.004388,
     "end_time": "2022-06-27T23:14:56.964189",
     "exception": false,
     "start_time": "2022-06-27T23:14:56.959801",
     "status": "completed"
    },
    "tags": []
   },
   "source": [
    "# Exercises"
   ]
  },
  {
   "cell_type": "markdown",
   "id": "32c05252",
   "metadata": {
    "papermill": {
     "duration": 0.00434,
     "end_time": "2022-06-27T23:14:56.973188",
     "exception": false,
     "start_time": "2022-06-27T23:14:56.968848",
     "status": "completed"
    },
    "tags": []
   },
   "source": [
    "## 1.\n",
    "Who are the most common wine reviewers in the dataset? Create a `Series` whose index is the `taster_twitter_handle` category from the dataset, and whose values count how many reviews each person wrote."
   ]
  },
  {
   "cell_type": "code",
   "execution_count": 2,
   "id": "4d6ae93b",
   "metadata": {
    "execution": {
     "iopub.execute_input": "2022-06-27T23:14:56.984300Z",
     "iopub.status.busy": "2022-06-27T23:14:56.983327Z",
     "iopub.status.idle": "2022-06-27T23:14:57.010897Z",
     "shell.execute_reply": "2022-06-27T23:14:57.009678Z"
    },
    "papermill": {
     "duration": 0.035434,
     "end_time": "2022-06-27T23:14:57.013126",
     "exception": false,
     "start_time": "2022-06-27T23:14:56.977692",
     "status": "completed"
    },
    "tags": []
   },
   "outputs": [
    {
     "data": {
      "application/javascript": [
       "parent.postMessage({\"jupyterEvent\": \"custom.exercise_interaction\", \"data\": {\"outcomeType\": 1, \"valueTowardsCompletion\": 0.16666666666666666, \"interactionType\": 1, \"questionType\": 1, \"questionId\": \"1_ReviewsWritten\", \"learnToolsVersion\": \"0.3.4\", \"failureMessage\": \"\", \"exceptionClass\": \"\", \"trace\": \"\"}}, \"*\")"
      ],
      "text/plain": [
       "<IPython.core.display.Javascript object>"
      ]
     },
     "metadata": {},
     "output_type": "display_data"
    },
    {
     "data": {
      "text/markdown": [
       "<span style=\"color:#33cc33\">Correct:</span> \n",
       "\n",
       "\n",
       "```python\n",
       "reviews_written = reviews.groupby('taster_twitter_handle').size()\n",
       "```\n",
       "or\n",
       "```python\n",
       "reviews_written = reviews.groupby('taster_twitter_handle').taster_twitter_handle.count()\n",
       "```\n"
      ],
      "text/plain": [
       "Correct: \n",
       "\n",
       "\n",
       "```python\n",
       "reviews_written = reviews.groupby('taster_twitter_handle').size()\n",
       "```\n",
       "or\n",
       "```python\n",
       "reviews_written = reviews.groupby('taster_twitter_handle').taster_twitter_handle.count()\n",
       "```"
      ]
     },
     "metadata": {},
     "output_type": "display_data"
    }
   ],
   "source": [
    "# Your code here\n",
    "reviews_written = reviews.groupby(\"taster_twitter_handle\").taster_twitter_handle.count()\n",
    "\n",
    "# Check your answer\n",
    "q1.check()"
   ]
  },
  {
   "cell_type": "markdown",
   "id": "1414a32f",
   "metadata": {
    "papermill": {
     "duration": 0.004562,
     "end_time": "2022-06-27T23:14:57.022490",
     "exception": false,
     "start_time": "2022-06-27T23:14:57.017928",
     "status": "completed"
    },
    "tags": []
   },
   "source": [
    "## 2.\n",
    "What is the best wine I can buy for a given amount of money? Create a `Series` whose index is wine prices and whose values is the maximum number of points a wine costing that much was given in a review. Sort the values by price, ascending (so that `4.0` dollars is at the top and `3300.0` dollars is at the bottom)."
   ]
  },
  {
   "cell_type": "code",
   "execution_count": 3,
   "id": "2f8ae333",
   "metadata": {
    "execution": {
     "iopub.execute_input": "2022-06-27T23:14:57.033453Z",
     "iopub.status.busy": "2022-06-27T23:14:57.033072Z",
     "iopub.status.idle": "2022-06-27T23:14:57.039066Z",
     "shell.execute_reply": "2022-06-27T23:14:57.038381Z"
    },
    "papermill": {
     "duration": 0.013747,
     "end_time": "2022-06-27T23:14:57.040915",
     "exception": false,
     "start_time": "2022-06-27T23:14:57.027168",
     "status": "completed"
    },
    "tags": []
   },
   "outputs": [
    {
     "data": {
      "text/plain": [
       "Index(['country', 'description', 'designation', 'points', 'price', 'province',\n",
       "       'region_1', 'region_2', 'taster_name', 'taster_twitter_handle', 'title',\n",
       "       'variety', 'winery'],\n",
       "      dtype='object')"
      ]
     },
     "execution_count": 3,
     "metadata": {},
     "output_type": "execute_result"
    }
   ],
   "source": [
    "reviews.columns"
   ]
  },
  {
   "cell_type": "code",
   "execution_count": 4,
   "id": "0bf1ae9e",
   "metadata": {
    "execution": {
     "iopub.execute_input": "2022-06-27T23:14:57.052077Z",
     "iopub.status.busy": "2022-06-27T23:14:57.051746Z",
     "iopub.status.idle": "2022-06-27T23:14:57.062787Z",
     "shell.execute_reply": "2022-06-27T23:14:57.062056Z"
    },
    "papermill": {
     "duration": 0.018584,
     "end_time": "2022-06-27T23:14:57.064520",
     "exception": false,
     "start_time": "2022-06-27T23:14:57.045936",
     "status": "completed"
    },
    "tags": []
   },
   "outputs": [
    {
     "data": {
      "application/javascript": [
       "parent.postMessage({\"jupyterEvent\": \"custom.exercise_interaction\", \"data\": {\"outcomeType\": 1, \"valueTowardsCompletion\": 0.16666666666666666, \"interactionType\": 1, \"questionType\": 1, \"questionId\": \"2_BestRatingPerPrice\", \"learnToolsVersion\": \"0.3.4\", \"failureMessage\": \"\", \"exceptionClass\": \"\", \"trace\": \"\"}}, \"*\")"
      ],
      "text/plain": [
       "<IPython.core.display.Javascript object>"
      ]
     },
     "metadata": {},
     "output_type": "display_data"
    },
    {
     "data": {
      "text/markdown": [
       "<span style=\"color:#33cc33\">Correct</span>"
      ],
      "text/plain": [
       "Correct"
      ]
     },
     "metadata": {},
     "output_type": "display_data"
    }
   ],
   "source": [
    "best_rating_per_price = reviews.groupby(\"price\").points.max().sort_index()\n",
    "\n",
    "# Check your answer\n",
    "q2.check()"
   ]
  },
  {
   "cell_type": "code",
   "execution_count": 5,
   "id": "4a7866a8",
   "metadata": {
    "execution": {
     "iopub.execute_input": "2022-06-27T23:14:57.076603Z",
     "iopub.status.busy": "2022-06-27T23:14:57.075728Z",
     "iopub.status.idle": "2022-06-27T23:14:57.079783Z",
     "shell.execute_reply": "2022-06-27T23:14:57.078999Z"
    },
    "papermill": {
     "duration": 0.012026,
     "end_time": "2022-06-27T23:14:57.081666",
     "exception": false,
     "start_time": "2022-06-27T23:14:57.069640",
     "status": "completed"
    },
    "tags": []
   },
   "outputs": [],
   "source": [
    "#q2.hint()\n",
    "#q2.solution()"
   ]
  },
  {
   "cell_type": "markdown",
   "id": "832c9892",
   "metadata": {
    "papermill": {
     "duration": 0.004756,
     "end_time": "2022-06-27T23:14:57.091546",
     "exception": false,
     "start_time": "2022-06-27T23:14:57.086790",
     "status": "completed"
    },
    "tags": []
   },
   "source": [
    "## 3.\n",
    "What are the minimum and maximum prices for each `variety` of wine? Create a `DataFrame` whose index is the `variety` category from the dataset and whose values are the `min` and `max` values thereof."
   ]
  },
  {
   "cell_type": "code",
   "execution_count": 6,
   "id": "30810ca2",
   "metadata": {
    "execution": {
     "iopub.execute_input": "2022-06-27T23:14:57.103432Z",
     "iopub.status.busy": "2022-06-27T23:14:57.102770Z",
     "iopub.status.idle": "2022-06-27T23:14:57.123737Z",
     "shell.execute_reply": "2022-06-27T23:14:57.122883Z"
    },
    "papermill": {
     "duration": 0.028949,
     "end_time": "2022-06-27T23:14:57.125662",
     "exception": false,
     "start_time": "2022-06-27T23:14:57.096713",
     "status": "completed"
    },
    "tags": []
   },
   "outputs": [
    {
     "data": {
      "application/javascript": [
       "parent.postMessage({\"jupyterEvent\": \"custom.exercise_interaction\", \"data\": {\"outcomeType\": 1, \"valueTowardsCompletion\": 0.16666666666666666, \"interactionType\": 1, \"questionType\": 1, \"questionId\": \"3_PriceExtremes\", \"learnToolsVersion\": \"0.3.4\", \"failureMessage\": \"\", \"exceptionClass\": \"\", \"trace\": \"\"}}, \"*\")"
      ],
      "text/plain": [
       "<IPython.core.display.Javascript object>"
      ]
     },
     "metadata": {},
     "output_type": "display_data"
    },
    {
     "data": {
      "text/markdown": [
       "<span style=\"color:#33cc33\">Correct</span>"
      ],
      "text/plain": [
       "Correct"
      ]
     },
     "metadata": {},
     "output_type": "display_data"
    }
   ],
   "source": [
    "price_extremes = reviews.groupby(\"variety\")[\"price\"].agg([min,max])\n",
    "\n",
    "# Check your answer\n",
    "q3.check()"
   ]
  },
  {
   "cell_type": "code",
   "execution_count": 7,
   "id": "60207be9",
   "metadata": {
    "execution": {
     "iopub.execute_input": "2022-06-27T23:14:57.138493Z",
     "iopub.status.busy": "2022-06-27T23:14:57.137764Z",
     "iopub.status.idle": "2022-06-27T23:14:57.141730Z",
     "shell.execute_reply": "2022-06-27T23:14:57.140795Z"
    },
    "papermill": {
     "duration": 0.012692,
     "end_time": "2022-06-27T23:14:57.143643",
     "exception": false,
     "start_time": "2022-06-27T23:14:57.130951",
     "status": "completed"
    },
    "tags": []
   },
   "outputs": [],
   "source": [
    "#q3.hint()\n",
    "#q3.solution()"
   ]
  },
  {
   "cell_type": "markdown",
   "id": "68ac60d0",
   "metadata": {
    "papermill": {
     "duration": 0.004946,
     "end_time": "2022-06-27T23:14:57.153874",
     "exception": false,
     "start_time": "2022-06-27T23:14:57.148928",
     "status": "completed"
    },
    "tags": []
   },
   "source": [
    "## 4.\n",
    "What are the most expensive wine varieties? Create a variable `sorted_varieties` containing a copy of the dataframe from the previous question where varieties are sorted in descending order based on minimum price, then on maximum price (to break ties)."
   ]
  },
  {
   "cell_type": "code",
   "execution_count": 8,
   "id": "9a3644c2",
   "metadata": {
    "execution": {
     "iopub.execute_input": "2022-06-27T23:14:57.166830Z",
     "iopub.status.busy": "2022-06-27T23:14:57.166013Z",
     "iopub.status.idle": "2022-06-27T23:14:57.175277Z",
     "shell.execute_reply": "2022-06-27T23:14:57.174575Z"
    },
    "papermill": {
     "duration": 0.017985,
     "end_time": "2022-06-27T23:14:57.177040",
     "exception": false,
     "start_time": "2022-06-27T23:14:57.159055",
     "status": "completed"
    },
    "tags": []
   },
   "outputs": [
    {
     "data": {
      "application/javascript": [
       "parent.postMessage({\"jupyterEvent\": \"custom.exercise_interaction\", \"data\": {\"outcomeType\": 1, \"valueTowardsCompletion\": 0.16666666666666666, \"interactionType\": 1, \"questionType\": 1, \"questionId\": \"4_SortedVarieties\", \"learnToolsVersion\": \"0.3.4\", \"failureMessage\": \"\", \"exceptionClass\": \"\", \"trace\": \"\"}}, \"*\")"
      ],
      "text/plain": [
       "<IPython.core.display.Javascript object>"
      ]
     },
     "metadata": {},
     "output_type": "display_data"
    },
    {
     "data": {
      "text/markdown": [
       "<span style=\"color:#33cc33\">Correct</span>"
      ],
      "text/plain": [
       "Correct"
      ]
     },
     "metadata": {},
     "output_type": "display_data"
    }
   ],
   "source": [
    "sorted_varieties = price_extremes.sort_values(by=[\"min\",\"max\"],ascending=False)\n",
    "\n",
    "# Check your answer\n",
    "q4.check()"
   ]
  },
  {
   "cell_type": "code",
   "execution_count": 9,
   "id": "1a466f12",
   "metadata": {
    "execution": {
     "iopub.execute_input": "2022-06-27T23:14:57.189529Z",
     "iopub.status.busy": "2022-06-27T23:14:57.188570Z",
     "iopub.status.idle": "2022-06-27T23:14:57.192246Z",
     "shell.execute_reply": "2022-06-27T23:14:57.191583Z"
    },
    "papermill": {
     "duration": 0.011695,
     "end_time": "2022-06-27T23:14:57.194058",
     "exception": false,
     "start_time": "2022-06-27T23:14:57.182363",
     "status": "completed"
    },
    "tags": []
   },
   "outputs": [],
   "source": [
    "#q4.hint()\n",
    "#q4.solution()"
   ]
  },
  {
   "cell_type": "markdown",
   "id": "10df1de1",
   "metadata": {
    "papermill": {
     "duration": 0.005233,
     "end_time": "2022-06-27T23:14:57.204937",
     "exception": false,
     "start_time": "2022-06-27T23:14:57.199704",
     "status": "completed"
    },
    "tags": []
   },
   "source": [
    "## 5.\n",
    "Create a `Series` whose index is reviewers and whose values is the average review score given out by that reviewer. Hint: you will need the `taster_name` and `points` columns."
   ]
  },
  {
   "cell_type": "code",
   "execution_count": 10,
   "id": "a817f93d",
   "metadata": {
    "execution": {
     "iopub.execute_input": "2022-06-27T23:14:57.218016Z",
     "iopub.status.busy": "2022-06-27T23:14:57.217399Z",
     "iopub.status.idle": "2022-06-27T23:14:57.236646Z",
     "shell.execute_reply": "2022-06-27T23:14:57.235557Z"
    },
    "papermill": {
     "duration": 0.028062,
     "end_time": "2022-06-27T23:14:57.238689",
     "exception": false,
     "start_time": "2022-06-27T23:14:57.210627",
     "status": "completed"
    },
    "tags": []
   },
   "outputs": [
    {
     "data": {
      "application/javascript": [
       "parent.postMessage({\"jupyterEvent\": \"custom.exercise_interaction\", \"data\": {\"outcomeType\": 1, \"valueTowardsCompletion\": 0.16666666666666666, \"interactionType\": 1, \"questionType\": 1, \"questionId\": \"5_ReviewerMeanRatings\", \"learnToolsVersion\": \"0.3.4\", \"failureMessage\": \"\", \"exceptionClass\": \"\", \"trace\": \"\"}}, \"*\")"
      ],
      "text/plain": [
       "<IPython.core.display.Javascript object>"
      ]
     },
     "metadata": {},
     "output_type": "display_data"
    },
    {
     "data": {
      "text/markdown": [
       "<span style=\"color:#33cc33\">Correct</span>"
      ],
      "text/plain": [
       "Correct"
      ]
     },
     "metadata": {},
     "output_type": "display_data"
    }
   ],
   "source": [
    "reviewer_mean_ratings = reviews.groupby(\"taster_name\")[\"points\"].mean()\n",
    "\n",
    "# Check your answer\n",
    "q5.check()"
   ]
  },
  {
   "cell_type": "code",
   "execution_count": 11,
   "id": "8b0357f7",
   "metadata": {
    "execution": {
     "iopub.execute_input": "2022-06-27T23:14:57.251812Z",
     "iopub.status.busy": "2022-06-27T23:14:57.251130Z",
     "iopub.status.idle": "2022-06-27T23:14:57.255091Z",
     "shell.execute_reply": "2022-06-27T23:14:57.254425Z"
    },
    "papermill": {
     "duration": 0.012747,
     "end_time": "2022-06-27T23:14:57.257023",
     "exception": false,
     "start_time": "2022-06-27T23:14:57.244276",
     "status": "completed"
    },
    "tags": []
   },
   "outputs": [],
   "source": [
    "#q5.hint()\n",
    "#q5.solution()"
   ]
  },
  {
   "cell_type": "markdown",
   "id": "3ad32fc5",
   "metadata": {
    "papermill": {
     "duration": 0.005507,
     "end_time": "2022-06-27T23:14:57.268245",
     "exception": false,
     "start_time": "2022-06-27T23:14:57.262738",
     "status": "completed"
    },
    "tags": []
   },
   "source": [
    "Are there significant differences in the average scores assigned by the various reviewers? Run the cell below to use the `describe()` method to see a summary of the range of values."
   ]
  },
  {
   "cell_type": "code",
   "execution_count": 12,
   "id": "a8fbadeb",
   "metadata": {
    "execution": {
     "iopub.execute_input": "2022-06-27T23:14:57.281348Z",
     "iopub.status.busy": "2022-06-27T23:14:57.280772Z",
     "iopub.status.idle": "2022-06-27T23:14:57.291834Z",
     "shell.execute_reply": "2022-06-27T23:14:57.290843Z"
    },
    "papermill": {
     "duration": 0.019918,
     "end_time": "2022-06-27T23:14:57.293721",
     "exception": false,
     "start_time": "2022-06-27T23:14:57.273803",
     "status": "completed"
    },
    "tags": []
   },
   "outputs": [
    {
     "data": {
      "text/plain": [
       "count    19.000000\n",
       "mean     88.233026\n",
       "std       1.243610\n",
       "min      85.855422\n",
       "25%      87.323501\n",
       "50%      88.536235\n",
       "75%      88.975256\n",
       "max      90.562551\n",
       "Name: points, dtype: float64"
      ]
     },
     "execution_count": 12,
     "metadata": {},
     "output_type": "execute_result"
    }
   ],
   "source": [
    "reviewer_mean_ratings.describe()"
   ]
  },
  {
   "cell_type": "markdown",
   "id": "85f5fd3b",
   "metadata": {
    "papermill": {
     "duration": 0.005501,
     "end_time": "2022-06-27T23:14:57.305049",
     "exception": false,
     "start_time": "2022-06-27T23:14:57.299548",
     "status": "completed"
    },
    "tags": []
   },
   "source": [
    "## 6.\n",
    "What combination of countries and varieties are most common? Create a `Series` whose index is a `MultiIndex`of `{country, variety}` pairs. For example, a pinot noir produced in the US should map to `{\"US\", \"Pinot Noir\"}`. Sort the values in the `Series` in descending order based on wine count."
   ]
  },
  {
   "cell_type": "code",
   "execution_count": 13,
   "id": "0076dfb5",
   "metadata": {
    "execution": {
     "iopub.execute_input": "2022-06-27T23:14:57.318567Z",
     "iopub.status.busy": "2022-06-27T23:14:57.317653Z",
     "iopub.status.idle": "2022-06-27T23:14:57.356741Z",
     "shell.execute_reply": "2022-06-27T23:14:57.355613Z"
    },
    "papermill": {
     "duration": 0.048092,
     "end_time": "2022-06-27T23:14:57.358884",
     "exception": false,
     "start_time": "2022-06-27T23:14:57.310792",
     "status": "completed"
    },
    "tags": []
   },
   "outputs": [
    {
     "data": {
      "application/javascript": [
       "parent.postMessage({\"jupyterEvent\": \"custom.exercise_interaction\", \"data\": {\"outcomeType\": 1, \"valueTowardsCompletion\": 0.16666666666666666, \"interactionType\": 1, \"questionType\": 1, \"questionId\": \"6_GroupbyCountryVariety\", \"learnToolsVersion\": \"0.3.4\", \"failureMessage\": \"\", \"exceptionClass\": \"\", \"trace\": \"\"}}, \"*\")"
      ],
      "text/plain": [
       "<IPython.core.display.Javascript object>"
      ]
     },
     "metadata": {},
     "output_type": "display_data"
    },
    {
     "data": {
      "text/markdown": [
       "<span style=\"color:#33cc33\">Correct</span>"
      ],
      "text/plain": [
       "Correct"
      ]
     },
     "metadata": {},
     "output_type": "display_data"
    }
   ],
   "source": [
    "country_variety_counts = reviews.groupby([\"country\",\"variety\"])[\"variety\"].count().sort_values(ascending=False)\n",
    "\n",
    "# Check your answer\n",
    "q6.check()"
   ]
  },
  {
   "cell_type": "code",
   "execution_count": 14,
   "id": "61b92dab",
   "metadata": {
    "execution": {
     "iopub.execute_input": "2022-06-27T23:14:57.373046Z",
     "iopub.status.busy": "2022-06-27T23:14:57.372362Z",
     "iopub.status.idle": "2022-06-27T23:14:57.376405Z",
     "shell.execute_reply": "2022-06-27T23:14:57.375726Z"
    },
    "papermill": {
     "duration": 0.013479,
     "end_time": "2022-06-27T23:14:57.378313",
     "exception": false,
     "start_time": "2022-06-27T23:14:57.364834",
     "status": "completed"
    },
    "tags": []
   },
   "outputs": [],
   "source": [
    "#q6.hint()\n",
    "#q6.solution()"
   ]
  },
  {
   "cell_type": "markdown",
   "id": "e251d7e2",
   "metadata": {
    "papermill": {
     "duration": 0.006123,
     "end_time": "2022-06-27T23:14:57.390312",
     "exception": false,
     "start_time": "2022-06-27T23:14:57.384189",
     "status": "completed"
    },
    "tags": []
   },
   "source": [
    "# Keep going\n",
    "\n",
    "Move on to the [**data types and missing data**](https://www.kaggle.com/residentmario/data-types-and-missing-values)."
   ]
  },
  {
   "cell_type": "markdown",
   "id": "4783e250",
   "metadata": {
    "papermill": {
     "duration": 0.006211,
     "end_time": "2022-06-27T23:14:57.402664",
     "exception": false,
     "start_time": "2022-06-27T23:14:57.396453",
     "status": "completed"
    },
    "tags": []
   },
   "source": [
    "---\n",
    "\n",
    "\n",
    "\n",
    "\n",
    "*Have questions or comments? Visit the [course discussion forum](https://www.kaggle.com/learn/pandas/discussion) to chat with other learners.*"
   ]
  }
 ],
 "metadata": {
  "kernelspec": {
   "display_name": "Python 3",
   "language": "python",
   "name": "python3"
  },
  "language_info": {
   "codemirror_mode": {
    "name": "ipython",
    "version": 3
   },
   "file_extension": ".py",
   "mimetype": "text/x-python",
   "name": "python",
   "nbconvert_exporter": "python",
   "pygments_lexer": "ipython3",
   "version": "3.7.12"
  },
  "papermill": {
   "default_parameters": {},
   "duration": 12.242976,
   "end_time": "2022-06-27T23:14:58.028653",
   "environment_variables": {},
   "exception": null,
   "input_path": "__notebook__.ipynb",
   "output_path": "__notebook__.ipynb",
   "parameters": {},
   "start_time": "2022-06-27T23:14:45.785677",
   "version": "2.3.4"
  }
 },
 "nbformat": 4,
 "nbformat_minor": 5
}
