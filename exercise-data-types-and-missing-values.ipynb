{
 "cells": [
  {
   "cell_type": "markdown",
   "id": "df94e300",
   "metadata": {
    "papermill": {
     "duration": 0.004518,
     "end_time": "2022-06-27T23:21:35.730812",
     "exception": false,
     "start_time": "2022-06-27T23:21:35.726294",
     "status": "completed"
    },
    "tags": []
   },
   "source": [
    "**This notebook is an exercise in the [Pandas](https://www.kaggle.com/learn/pandas) course.  You can reference the tutorial at [this link](https://www.kaggle.com/residentmario/data-types-and-missing-values).**\n",
    "\n",
    "---\n"
   ]
  },
  {
   "cell_type": "markdown",
   "id": "0d72041e",
   "metadata": {
    "papermill": {
     "duration": 0.003409,
     "end_time": "2022-06-27T23:21:35.737913",
     "exception": false,
     "start_time": "2022-06-27T23:21:35.734504",
     "status": "completed"
    },
    "tags": []
   },
   "source": [
    "# Introduction\n",
    "\n",
    "Run the following cell to load your data and some utility functions."
   ]
  },
  {
   "cell_type": "code",
   "execution_count": 1,
   "id": "8bb7779b",
   "metadata": {
    "execution": {
     "iopub.execute_input": "2022-06-27T23:21:35.747035Z",
     "iopub.status.busy": "2022-06-27T23:21:35.746576Z",
     "iopub.status.idle": "2022-06-27T23:21:38.380826Z",
     "shell.execute_reply": "2022-06-27T23:21:38.380016Z"
    },
    "papermill": {
     "duration": 2.642502,
     "end_time": "2022-06-27T23:21:38.384037",
     "exception": false,
     "start_time": "2022-06-27T23:21:35.741535",
     "status": "completed"
    },
    "tags": []
   },
   "outputs": [
    {
     "name": "stdout",
     "output_type": "stream",
     "text": [
      "Setup complete.\n"
     ]
    }
   ],
   "source": [
    "import pandas as pd\n",
    "\n",
    "reviews = pd.read_csv(\"../input/wine-reviews/winemag-data-130k-v2.csv\", index_col=0)\n",
    "\n",
    "from learntools.core import binder; binder.bind(globals())\n",
    "from learntools.pandas.data_types_and_missing_data import *\n",
    "print(\"Setup complete.\")"
   ]
  },
  {
   "cell_type": "markdown",
   "id": "53fb6a4d",
   "metadata": {
    "papermill": {
     "duration": 0.004983,
     "end_time": "2022-06-27T23:21:38.395170",
     "exception": false,
     "start_time": "2022-06-27T23:21:38.390187",
     "status": "completed"
    },
    "tags": []
   },
   "source": [
    "# Exercises"
   ]
  },
  {
   "cell_type": "markdown",
   "id": "b8a15f15",
   "metadata": {
    "papermill": {
     "duration": 0.003876,
     "end_time": "2022-06-27T23:21:38.402722",
     "exception": false,
     "start_time": "2022-06-27T23:21:38.398846",
     "status": "completed"
    },
    "tags": []
   },
   "source": [
    "## 1. \n",
    "What is the data type of the `points` column in the dataset?"
   ]
  },
  {
   "cell_type": "code",
   "execution_count": 2,
   "id": "1be41daa",
   "metadata": {
    "execution": {
     "iopub.execute_input": "2022-06-27T23:21:38.411290Z",
     "iopub.status.busy": "2022-06-27T23:21:38.410935Z",
     "iopub.status.idle": "2022-06-27T23:21:38.421984Z",
     "shell.execute_reply": "2022-06-27T23:21:38.420902Z"
    },
    "papermill": {
     "duration": 0.017857,
     "end_time": "2022-06-27T23:21:38.424094",
     "exception": false,
     "start_time": "2022-06-27T23:21:38.406237",
     "status": "completed"
    },
    "tags": []
   },
   "outputs": [
    {
     "data": {
      "application/javascript": [
       "parent.postMessage({\"jupyterEvent\": \"custom.exercise_interaction\", \"data\": {\"outcomeType\": 1, \"valueTowardsCompletion\": 0.25, \"interactionType\": 1, \"questionType\": 1, \"questionId\": \"1_PointsDtype\", \"learnToolsVersion\": \"0.3.4\", \"failureMessage\": \"\", \"exceptionClass\": \"\", \"trace\": \"\"}}, \"*\")"
      ],
      "text/plain": [
       "<IPython.core.display.Javascript object>"
      ]
     },
     "metadata": {},
     "output_type": "display_data"
    },
    {
     "data": {
      "text/markdown": [
       "<span style=\"color:#33cc33\">Correct</span>"
      ],
      "text/plain": [
       "Correct"
      ]
     },
     "metadata": {},
     "output_type": "display_data"
    }
   ],
   "source": [
    "# Your code here\n",
    "dtype = reviews[\"points\"].dtype\n",
    "\n",
    "# Check your answer\n",
    "q1.check()"
   ]
  },
  {
   "cell_type": "code",
   "execution_count": 3,
   "id": "fe797550",
   "metadata": {
    "execution": {
     "iopub.execute_input": "2022-06-27T23:21:38.433911Z",
     "iopub.status.busy": "2022-06-27T23:21:38.432936Z",
     "iopub.status.idle": "2022-06-27T23:21:38.436762Z",
     "shell.execute_reply": "2022-06-27T23:21:38.436061Z"
    },
    "papermill": {
     "duration": 0.010641,
     "end_time": "2022-06-27T23:21:38.438709",
     "exception": false,
     "start_time": "2022-06-27T23:21:38.428068",
     "status": "completed"
    },
    "tags": []
   },
   "outputs": [],
   "source": [
    "#q1.hint()\n",
    "#q1.solution()"
   ]
  },
  {
   "cell_type": "markdown",
   "id": "79995402",
   "metadata": {
    "papermill": {
     "duration": 0.003669,
     "end_time": "2022-06-27T23:21:38.446300",
     "exception": false,
     "start_time": "2022-06-27T23:21:38.442631",
     "status": "completed"
    },
    "tags": []
   },
   "source": [
    "## 2. \n",
    "Create a Series from entries in the `points` column, but convert the entries to strings. Hint: strings are `str` in native Python."
   ]
  },
  {
   "cell_type": "code",
   "execution_count": 4,
   "id": "eb0f1751",
   "metadata": {
    "execution": {
     "iopub.execute_input": "2022-06-27T23:21:38.455869Z",
     "iopub.status.busy": "2022-06-27T23:21:38.455241Z",
     "iopub.status.idle": "2022-06-27T23:21:38.534756Z",
     "shell.execute_reply": "2022-06-27T23:21:38.533567Z"
    },
    "papermill": {
     "duration": 0.086817,
     "end_time": "2022-06-27T23:21:38.536881",
     "exception": false,
     "start_time": "2022-06-27T23:21:38.450064",
     "status": "completed"
    },
    "tags": []
   },
   "outputs": [
    {
     "data": {
      "application/javascript": [
       "parent.postMessage({\"jupyterEvent\": \"custom.exercise_interaction\", \"data\": {\"outcomeType\": 1, \"valueTowardsCompletion\": 0.25, \"interactionType\": 1, \"questionType\": 1, \"questionId\": \"2_StrPoints\", \"learnToolsVersion\": \"0.3.4\", \"failureMessage\": \"\", \"exceptionClass\": \"\", \"trace\": \"\"}}, \"*\")"
      ],
      "text/plain": [
       "<IPython.core.display.Javascript object>"
      ]
     },
     "metadata": {},
     "output_type": "display_data"
    },
    {
     "data": {
      "text/markdown": [
       "<span style=\"color:#33cc33\">Correct</span>"
      ],
      "text/plain": [
       "Correct"
      ]
     },
     "metadata": {},
     "output_type": "display_data"
    }
   ],
   "source": [
    "point_strings = reviews[\"points\"].astype(str)\n",
    "\n",
    "# Check your answer\n",
    "q2.check()"
   ]
  },
  {
   "cell_type": "code",
   "execution_count": 5,
   "id": "0dc26c8b",
   "metadata": {
    "execution": {
     "iopub.execute_input": "2022-06-27T23:21:38.547364Z",
     "iopub.status.busy": "2022-06-27T23:21:38.546328Z",
     "iopub.status.idle": "2022-06-27T23:21:38.551182Z",
     "shell.execute_reply": "2022-06-27T23:21:38.550180Z"
    },
    "papermill": {
     "duration": 0.012233,
     "end_time": "2022-06-27T23:21:38.553334",
     "exception": false,
     "start_time": "2022-06-27T23:21:38.541101",
     "status": "completed"
    },
    "tags": []
   },
   "outputs": [],
   "source": [
    "#q2.hint()\n",
    "#q2.solution()"
   ]
  },
  {
   "cell_type": "markdown",
   "id": "5a88ef8f",
   "metadata": {
    "papermill": {
     "duration": 0.003865,
     "end_time": "2022-06-27T23:21:38.561387",
     "exception": false,
     "start_time": "2022-06-27T23:21:38.557522",
     "status": "completed"
    },
    "tags": []
   },
   "source": [
    "## 3.\n",
    "Sometimes the price column is null. How many reviews in the dataset are missing a price?"
   ]
  },
  {
   "cell_type": "code",
   "execution_count": 6,
   "id": "9026dbcd",
   "metadata": {
    "execution": {
     "iopub.execute_input": "2022-06-27T23:21:38.571213Z",
     "iopub.status.busy": "2022-06-27T23:21:38.570825Z",
     "iopub.status.idle": "2022-06-27T23:21:38.580986Z",
     "shell.execute_reply": "2022-06-27T23:21:38.579988Z"
    },
    "papermill": {
     "duration": 0.017418,
     "end_time": "2022-06-27T23:21:38.582848",
     "exception": false,
     "start_time": "2022-06-27T23:21:38.565430",
     "status": "completed"
    },
    "tags": []
   },
   "outputs": [
    {
     "data": {
      "application/javascript": [
       "parent.postMessage({\"jupyterEvent\": \"custom.exercise_interaction\", \"data\": {\"outcomeType\": 1, \"valueTowardsCompletion\": 0.25, \"interactionType\": 1, \"questionType\": 1, \"questionId\": \"3_CountMissingPrices\", \"learnToolsVersion\": \"0.3.4\", \"failureMessage\": \"\", \"exceptionClass\": \"\", \"trace\": \"\"}}, \"*\")"
      ],
      "text/plain": [
       "<IPython.core.display.Javascript object>"
      ]
     },
     "metadata": {},
     "output_type": "display_data"
    },
    {
     "data": {
      "text/markdown": [
       "<span style=\"color:#33cc33\">Correct</span>"
      ],
      "text/plain": [
       "Correct"
      ]
     },
     "metadata": {},
     "output_type": "display_data"
    }
   ],
   "source": [
    "n_missing_prices = reviews[\"price\"].isna().sum()\n",
    "\n",
    "# Check your answer\n",
    "q3.check()"
   ]
  },
  {
   "cell_type": "code",
   "execution_count": 7,
   "id": "bc9ff2c1",
   "metadata": {
    "execution": {
     "iopub.execute_input": "2022-06-27T23:21:38.593252Z",
     "iopub.status.busy": "2022-06-27T23:21:38.592408Z",
     "iopub.status.idle": "2022-06-27T23:21:38.596514Z",
     "shell.execute_reply": "2022-06-27T23:21:38.595842Z"
    },
    "papermill": {
     "duration": 0.011097,
     "end_time": "2022-06-27T23:21:38.598313",
     "exception": false,
     "start_time": "2022-06-27T23:21:38.587216",
     "status": "completed"
    },
    "tags": []
   },
   "outputs": [],
   "source": [
    "#q3.hint()\n",
    "#q3.solution()"
   ]
  },
  {
   "cell_type": "markdown",
   "id": "a4528ab5",
   "metadata": {
    "papermill": {
     "duration": 0.004,
     "end_time": "2022-06-27T23:21:38.606573",
     "exception": false,
     "start_time": "2022-06-27T23:21:38.602573",
     "status": "completed"
    },
    "tags": []
   },
   "source": [
    "## 4.\n",
    "What are the most common wine-producing regions? Create a Series counting the number of times each value occurs in the `region_1` field. This field is often missing data, so replace missing values with `Unknown`. Sort in descending order.  Your output should look something like this:\n",
    "\n",
    "```\n",
    "Unknown                    21247\n",
    "Napa Valley                 4480\n",
    "                           ...  \n",
    "Bardolino Superiore            1\n",
    "Primitivo del Tarantino        1\n",
    "Name: region_1, Length: 1230, dtype: int64\n",
    "```"
   ]
  },
  {
   "cell_type": "code",
   "execution_count": 8,
   "id": "10890157",
   "metadata": {
    "execution": {
     "iopub.execute_input": "2022-06-27T23:21:38.616803Z",
     "iopub.status.busy": "2022-06-27T23:21:38.616221Z",
     "iopub.status.idle": "2022-06-27T23:21:38.628840Z",
     "shell.execute_reply": "2022-06-27T23:21:38.627988Z"
    },
    "papermill": {
     "duration": 0.020287,
     "end_time": "2022-06-27T23:21:38.631042",
     "exception": false,
     "start_time": "2022-06-27T23:21:38.610755",
     "status": "completed"
    },
    "tags": []
   },
   "outputs": [],
   "source": [
    "reviews[\"region_1\"]=reviews[\"region_1\"].fillna(\"unknown\")"
   ]
  },
  {
   "cell_type": "code",
   "execution_count": 9,
   "id": "4f4fb0e4",
   "metadata": {
    "execution": {
     "iopub.execute_input": "2022-06-27T23:21:38.641435Z",
     "iopub.status.busy": "2022-06-27T23:21:38.640778Z",
     "iopub.status.idle": "2022-06-27T23:21:38.647750Z",
     "shell.execute_reply": "2022-06-27T23:21:38.647073Z"
    },
    "papermill": {
     "duration": 0.014031,
     "end_time": "2022-06-27T23:21:38.649555",
     "exception": false,
     "start_time": "2022-06-27T23:21:38.635524",
     "status": "completed"
    },
    "tags": []
   },
   "outputs": [
    {
     "data": {
      "text/plain": [
       "0                        Etna\n",
       "1                     unknown\n",
       "2           Willamette Valley\n",
       "3         Lake Michigan Shore\n",
       "4           Willamette Valley\n",
       "                 ...         \n",
       "129966                unknown\n",
       "129967                 Oregon\n",
       "129968                 Alsace\n",
       "129969                 Alsace\n",
       "129970                 Alsace\n",
       "Name: region_1, Length: 129971, dtype: object"
      ]
     },
     "execution_count": 9,
     "metadata": {},
     "output_type": "execute_result"
    }
   ],
   "source": [
    "reviews[\"region_1\"]"
   ]
  },
  {
   "cell_type": "code",
   "execution_count": 10,
   "id": "5a912caf",
   "metadata": {
    "execution": {
     "iopub.execute_input": "2022-06-27T23:21:38.659803Z",
     "iopub.status.busy": "2022-06-27T23:21:38.659191Z",
     "iopub.status.idle": "2022-06-27T23:21:38.691187Z",
     "shell.execute_reply": "2022-06-27T23:21:38.690296Z"
    },
    "papermill": {
     "duration": 0.039168,
     "end_time": "2022-06-27T23:21:38.693043",
     "exception": false,
     "start_time": "2022-06-27T23:21:38.653875",
     "status": "completed"
    },
    "tags": []
   },
   "outputs": [
    {
     "data": {
      "application/javascript": [
       "parent.postMessage({\"jupyterEvent\": \"custom.exercise_interaction\", \"data\": {\"outcomeType\": 1, \"valueTowardsCompletion\": 0.25, \"interactionType\": 1, \"questionType\": 2, \"questionId\": \"4_ReviewsPerRegion\", \"learnToolsVersion\": \"0.3.4\", \"failureMessage\": \"\", \"exceptionClass\": \"\", \"trace\": \"\"}}, \"*\")"
      ],
      "text/plain": [
       "<IPython.core.display.Javascript object>"
      ]
     },
     "metadata": {},
     "output_type": "display_data"
    },
    {
     "data": {
      "text/markdown": [
       "<span style=\"color:#33cc33\">Correct</span>"
      ],
      "text/plain": [
       "Correct"
      ]
     },
     "metadata": {},
     "output_type": "display_data"
    }
   ],
   "source": [
    "reviews_per_region = reviews[\"region_1\"].value_counts().sort_values(ascending=False)\n",
    "\n",
    "# Check your answer\n",
    "q4.check()"
   ]
  },
  {
   "cell_type": "code",
   "execution_count": 11,
   "id": "b86e0084",
   "metadata": {
    "execution": {
     "iopub.execute_input": "2022-06-27T23:21:38.703906Z",
     "iopub.status.busy": "2022-06-27T23:21:38.703573Z",
     "iopub.status.idle": "2022-06-27T23:21:38.706905Z",
     "shell.execute_reply": "2022-06-27T23:21:38.706183Z"
    },
    "papermill": {
     "duration": 0.011085,
     "end_time": "2022-06-27T23:21:38.708658",
     "exception": false,
     "start_time": "2022-06-27T23:21:38.697573",
     "status": "completed"
    },
    "tags": []
   },
   "outputs": [],
   "source": [
    "#q4.hint()\n",
    "#q4.solution()"
   ]
  },
  {
   "cell_type": "markdown",
   "id": "0129448a",
   "metadata": {
    "papermill": {
     "duration": 0.004384,
     "end_time": "2022-06-27T23:21:38.717652",
     "exception": false,
     "start_time": "2022-06-27T23:21:38.713268",
     "status": "completed"
    },
    "tags": []
   },
   "source": [
    "# Keep going\n",
    "\n",
    "Move on to **[renaming and combining](https://www.kaggle.com/residentmario/renaming-and-combining)**."
   ]
  },
  {
   "cell_type": "markdown",
   "id": "c4af74cf",
   "metadata": {
    "papermill": {
     "duration": 0.004327,
     "end_time": "2022-06-27T23:21:38.726572",
     "exception": false,
     "start_time": "2022-06-27T23:21:38.722245",
     "status": "completed"
    },
    "tags": []
   },
   "source": [
    "---\n",
    "\n",
    "\n",
    "\n",
    "\n",
    "*Have questions or comments? Visit the [course discussion forum](https://www.kaggle.com/learn/pandas/discussion) to chat with other learners.*"
   ]
  }
 ],
 "metadata": {
  "kernelspec": {
   "display_name": "Python 3",
   "language": "python",
   "name": "python3"
  },
  "language_info": {
   "codemirror_mode": {
    "name": "ipython",
    "version": 3
   },
   "file_extension": ".py",
   "mimetype": "text/x-python",
   "name": "python",
   "nbconvert_exporter": "python",
   "pygments_lexer": "ipython3",
   "version": "3.7.12"
  },
  "papermill": {
   "default_parameters": {},
   "duration": 11.961914,
   "end_time": "2022-06-27T23:21:39.351444",
   "environment_variables": {},
   "exception": null,
   "input_path": "__notebook__.ipynb",
   "output_path": "__notebook__.ipynb",
   "parameters": {},
   "start_time": "2022-06-27T23:21:27.389530",
   "version": "2.3.4"
  }
 },
 "nbformat": 4,
 "nbformat_minor": 5
}
