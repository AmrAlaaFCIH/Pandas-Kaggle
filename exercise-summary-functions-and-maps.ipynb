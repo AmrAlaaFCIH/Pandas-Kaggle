{
 "cells": [
  {
   "cell_type": "markdown",
   "id": "8ddda722",
   "metadata": {
    "papermill": {
     "duration": 0.008075,
     "end_time": "2022-06-27T22:58:02.072478",
     "exception": false,
     "start_time": "2022-06-27T22:58:02.064403",
     "status": "completed"
    },
    "tags": []
   },
   "source": [
    "**This notebook is an exercise in the [Pandas](https://www.kaggle.com/learn/pandas) course.  You can reference the tutorial at [this link](https://www.kaggle.com/residentmario/summary-functions-and-maps).**\n",
    "\n",
    "---\n"
   ]
  },
  {
   "cell_type": "markdown",
   "id": "50fa188c",
   "metadata": {
    "papermill": {
     "duration": 0.006679,
     "end_time": "2022-06-27T22:58:02.086255",
     "exception": false,
     "start_time": "2022-06-27T22:58:02.079576",
     "status": "completed"
    },
    "tags": []
   },
   "source": [
    "# Introduction\n",
    "\n",
    "Now you are ready to get a deeper understanding of your data.\n",
    "\n",
    "Run the following cell to load your data and some utility functions (including code to check your answers)."
   ]
  },
  {
   "cell_type": "code",
   "execution_count": 1,
   "id": "b5ec25f6",
   "metadata": {
    "execution": {
     "iopub.execute_input": "2022-06-27T22:58:02.102055Z",
     "iopub.status.busy": "2022-06-27T22:58:02.101516Z",
     "iopub.status.idle": "2022-06-27T22:58:10.148346Z",
     "shell.execute_reply": "2022-06-27T22:58:10.147531Z"
    },
    "papermill": {
     "duration": 8.058057,
     "end_time": "2022-06-27T22:58:10.151302",
     "exception": false,
     "start_time": "2022-06-27T22:58:02.093245",
     "status": "completed"
    },
    "tags": []
   },
   "outputs": [
    {
     "name": "stdout",
     "output_type": "stream",
     "text": [
      "Setup complete.\n"
     ]
    },
    {
     "data": {
      "text/html": [
       "<div>\n",
       "<style scoped>\n",
       "    .dataframe tbody tr th:only-of-type {\n",
       "        vertical-align: middle;\n",
       "    }\n",
       "\n",
       "    .dataframe tbody tr th {\n",
       "        vertical-align: top;\n",
       "    }\n",
       "\n",
       "    .dataframe thead th {\n",
       "        text-align: right;\n",
       "    }\n",
       "</style>\n",
       "<table border=\"1\" class=\"dataframe\">\n",
       "  <thead>\n",
       "    <tr style=\"text-align: right;\">\n",
       "      <th></th>\n",
       "      <th>country</th>\n",
       "      <th>description</th>\n",
       "      <th>designation</th>\n",
       "      <th>points</th>\n",
       "      <th>price</th>\n",
       "      <th>province</th>\n",
       "      <th>region_1</th>\n",
       "      <th>region_2</th>\n",
       "      <th>taster_name</th>\n",
       "      <th>taster_twitter_handle</th>\n",
       "      <th>title</th>\n",
       "      <th>variety</th>\n",
       "      <th>winery</th>\n",
       "    </tr>\n",
       "  </thead>\n",
       "  <tbody>\n",
       "    <tr>\n",
       "      <th>0</th>\n",
       "      <td>Italy</td>\n",
       "      <td>Aromas include tropical fruit, broom, brimston...</td>\n",
       "      <td>Vulkà Bianco</td>\n",
       "      <td>87</td>\n",
       "      <td>NaN</td>\n",
       "      <td>Sicily &amp; Sardinia</td>\n",
       "      <td>Etna</td>\n",
       "      <td>NaN</td>\n",
       "      <td>Kerin O’Keefe</td>\n",
       "      <td>@kerinokeefe</td>\n",
       "      <td>Nicosia 2013 Vulkà Bianco  (Etna)</td>\n",
       "      <td>White Blend</td>\n",
       "      <td>Nicosia</td>\n",
       "    </tr>\n",
       "    <tr>\n",
       "      <th>1</th>\n",
       "      <td>Portugal</td>\n",
       "      <td>This is ripe and fruity, a wine that is smooth...</td>\n",
       "      <td>Avidagos</td>\n",
       "      <td>87</td>\n",
       "      <td>15.0</td>\n",
       "      <td>Douro</td>\n",
       "      <td>NaN</td>\n",
       "      <td>NaN</td>\n",
       "      <td>Roger Voss</td>\n",
       "      <td>@vossroger</td>\n",
       "      <td>Quinta dos Avidagos 2011 Avidagos Red (Douro)</td>\n",
       "      <td>Portuguese Red</td>\n",
       "      <td>Quinta dos Avidagos</td>\n",
       "    </tr>\n",
       "    <tr>\n",
       "      <th>2</th>\n",
       "      <td>US</td>\n",
       "      <td>Tart and snappy, the flavors of lime flesh and...</td>\n",
       "      <td>NaN</td>\n",
       "      <td>87</td>\n",
       "      <td>14.0</td>\n",
       "      <td>Oregon</td>\n",
       "      <td>Willamette Valley</td>\n",
       "      <td>Willamette Valley</td>\n",
       "      <td>Paul Gregutt</td>\n",
       "      <td>@paulgwine</td>\n",
       "      <td>Rainstorm 2013 Pinot Gris (Willamette Valley)</td>\n",
       "      <td>Pinot Gris</td>\n",
       "      <td>Rainstorm</td>\n",
       "    </tr>\n",
       "    <tr>\n",
       "      <th>3</th>\n",
       "      <td>US</td>\n",
       "      <td>Pineapple rind, lemon pith and orange blossom ...</td>\n",
       "      <td>Reserve Late Harvest</td>\n",
       "      <td>87</td>\n",
       "      <td>13.0</td>\n",
       "      <td>Michigan</td>\n",
       "      <td>Lake Michigan Shore</td>\n",
       "      <td>NaN</td>\n",
       "      <td>Alexander Peartree</td>\n",
       "      <td>NaN</td>\n",
       "      <td>St. Julian 2013 Reserve Late Harvest Riesling ...</td>\n",
       "      <td>Riesling</td>\n",
       "      <td>St. Julian</td>\n",
       "    </tr>\n",
       "    <tr>\n",
       "      <th>4</th>\n",
       "      <td>US</td>\n",
       "      <td>Much like the regular bottling from 2012, this...</td>\n",
       "      <td>Vintner's Reserve Wild Child Block</td>\n",
       "      <td>87</td>\n",
       "      <td>65.0</td>\n",
       "      <td>Oregon</td>\n",
       "      <td>Willamette Valley</td>\n",
       "      <td>Willamette Valley</td>\n",
       "      <td>Paul Gregutt</td>\n",
       "      <td>@paulgwine</td>\n",
       "      <td>Sweet Cheeks 2012 Vintner's Reserve Wild Child...</td>\n",
       "      <td>Pinot Noir</td>\n",
       "      <td>Sweet Cheeks</td>\n",
       "    </tr>\n",
       "  </tbody>\n",
       "</table>\n",
       "</div>"
      ],
      "text/plain": [
       "    country                                        description  \\\n",
       "0     Italy  Aromas include tropical fruit, broom, brimston...   \n",
       "1  Portugal  This is ripe and fruity, a wine that is smooth...   \n",
       "2        US  Tart and snappy, the flavors of lime flesh and...   \n",
       "3        US  Pineapple rind, lemon pith and orange blossom ...   \n",
       "4        US  Much like the regular bottling from 2012, this...   \n",
       "\n",
       "                          designation  points  price           province  \\\n",
       "0                        Vulkà Bianco      87    NaN  Sicily & Sardinia   \n",
       "1                            Avidagos      87   15.0              Douro   \n",
       "2                                 NaN      87   14.0             Oregon   \n",
       "3                Reserve Late Harvest      87   13.0           Michigan   \n",
       "4  Vintner's Reserve Wild Child Block      87   65.0             Oregon   \n",
       "\n",
       "              region_1           region_2         taster_name  \\\n",
       "0                 Etna                NaN       Kerin O’Keefe   \n",
       "1                  NaN                NaN          Roger Voss   \n",
       "2    Willamette Valley  Willamette Valley        Paul Gregutt   \n",
       "3  Lake Michigan Shore                NaN  Alexander Peartree   \n",
       "4    Willamette Valley  Willamette Valley        Paul Gregutt   \n",
       "\n",
       "  taster_twitter_handle                                              title  \\\n",
       "0          @kerinokeefe                  Nicosia 2013 Vulkà Bianco  (Etna)   \n",
       "1            @vossroger      Quinta dos Avidagos 2011 Avidagos Red (Douro)   \n",
       "2           @paulgwine       Rainstorm 2013 Pinot Gris (Willamette Valley)   \n",
       "3                   NaN  St. Julian 2013 Reserve Late Harvest Riesling ...   \n",
       "4           @paulgwine   Sweet Cheeks 2012 Vintner's Reserve Wild Child...   \n",
       "\n",
       "          variety               winery  \n",
       "0     White Blend              Nicosia  \n",
       "1  Portuguese Red  Quinta dos Avidagos  \n",
       "2      Pinot Gris            Rainstorm  \n",
       "3        Riesling           St. Julian  \n",
       "4      Pinot Noir         Sweet Cheeks  "
      ]
     },
     "execution_count": 1,
     "metadata": {},
     "output_type": "execute_result"
    }
   ],
   "source": [
    "import pandas as pd\n",
    "pd.set_option(\"display.max_rows\", 5)\n",
    "reviews = pd.read_csv(\"../input/wine-reviews/winemag-data-130k-v2.csv\", index_col=0)\n",
    "\n",
    "from learntools.core import binder; binder.bind(globals())\n",
    "from learntools.pandas.summary_functions_and_maps import *\n",
    "print(\"Setup complete.\")\n",
    "\n",
    "reviews.head()"
   ]
  },
  {
   "cell_type": "markdown",
   "id": "4e67dc21",
   "metadata": {
    "papermill": {
     "duration": 0.007055,
     "end_time": "2022-06-27T22:58:10.165909",
     "exception": false,
     "start_time": "2022-06-27T22:58:10.158854",
     "status": "completed"
    },
    "tags": []
   },
   "source": [
    "# Exercises"
   ]
  },
  {
   "cell_type": "markdown",
   "id": "c7aef68a",
   "metadata": {
    "papermill": {
     "duration": 0.007193,
     "end_time": "2022-06-27T22:58:10.180434",
     "exception": false,
     "start_time": "2022-06-27T22:58:10.173241",
     "status": "completed"
    },
    "tags": []
   },
   "source": [
    "## 1.\n",
    "\n",
    "What is the median of the `points` column in the `reviews` DataFrame?"
   ]
  },
  {
   "cell_type": "code",
   "execution_count": 2,
   "id": "3874a4f6",
   "metadata": {
    "execution": {
     "iopub.execute_input": "2022-06-27T22:58:10.197374Z",
     "iopub.status.busy": "2022-06-27T22:58:10.196481Z",
     "iopub.status.idle": "2022-06-27T22:58:10.206762Z",
     "shell.execute_reply": "2022-06-27T22:58:10.205467Z"
    },
    "papermill": {
     "duration": 0.021218,
     "end_time": "2022-06-27T22:58:10.209068",
     "exception": false,
     "start_time": "2022-06-27T22:58:10.187850",
     "status": "completed"
    },
    "tags": []
   },
   "outputs": [
    {
     "data": {
      "application/javascript": [
       "parent.postMessage({\"jupyterEvent\": \"custom.exercise_interaction\", \"data\": {\"outcomeType\": 1, \"valueTowardsCompletion\": 0.14285714285714285, \"interactionType\": 1, \"questionType\": 1, \"questionId\": \"1_MedianPoints\", \"learnToolsVersion\": \"0.3.4\", \"failureMessage\": \"\", \"exceptionClass\": \"\", \"trace\": \"\"}}, \"*\")"
      ],
      "text/plain": [
       "<IPython.core.display.Javascript object>"
      ]
     },
     "metadata": {},
     "output_type": "display_data"
    },
    {
     "data": {
      "text/markdown": [
       "<span style=\"color:#33cc33\">Correct</span>"
      ],
      "text/plain": [
       "Correct"
      ]
     },
     "metadata": {},
     "output_type": "display_data"
    }
   ],
   "source": [
    "median_points = reviews[\"points\"].median()\n",
    "\n",
    "# Check your answer\n",
    "q1.check()"
   ]
  },
  {
   "cell_type": "code",
   "execution_count": 3,
   "id": "40b51c45",
   "metadata": {
    "execution": {
     "iopub.execute_input": "2022-06-27T22:58:10.226435Z",
     "iopub.status.busy": "2022-06-27T22:58:10.226036Z",
     "iopub.status.idle": "2022-06-27T22:58:10.230282Z",
     "shell.execute_reply": "2022-06-27T22:58:10.229168Z"
    },
    "papermill": {
     "duration": 0.015839,
     "end_time": "2022-06-27T22:58:10.232629",
     "exception": false,
     "start_time": "2022-06-27T22:58:10.216790",
     "status": "completed"
    },
    "tags": []
   },
   "outputs": [],
   "source": [
    "#q1.hint()\n",
    "#q1.solution()"
   ]
  },
  {
   "cell_type": "markdown",
   "id": "0e2f7a9b",
   "metadata": {
    "papermill": {
     "duration": 0.00752,
     "end_time": "2022-06-27T22:58:10.248372",
     "exception": false,
     "start_time": "2022-06-27T22:58:10.240852",
     "status": "completed"
    },
    "tags": []
   },
   "source": [
    "## 2. \n",
    "What countries are represented in the dataset? (Your answer should not include any duplicates.)"
   ]
  },
  {
   "cell_type": "code",
   "execution_count": 4,
   "id": "8ff148f9",
   "metadata": {
    "execution": {
     "iopub.execute_input": "2022-06-27T22:58:10.265922Z",
     "iopub.status.busy": "2022-06-27T22:58:10.265481Z",
     "iopub.status.idle": "2022-06-27T22:58:10.287897Z",
     "shell.execute_reply": "2022-06-27T22:58:10.286969Z"
    },
    "papermill": {
     "duration": 0.033838,
     "end_time": "2022-06-27T22:58:10.290121",
     "exception": false,
     "start_time": "2022-06-27T22:58:10.256283",
     "status": "completed"
    },
    "tags": []
   },
   "outputs": [
    {
     "data": {
      "application/javascript": [
       "parent.postMessage({\"jupyterEvent\": \"custom.exercise_interaction\", \"data\": {\"outcomeType\": 1, \"valueTowardsCompletion\": 0.14285714285714285, \"interactionType\": 1, \"questionType\": 2, \"questionId\": \"2_UniqueCountries\", \"learnToolsVersion\": \"0.3.4\", \"failureMessage\": \"\", \"exceptionClass\": \"\", \"trace\": \"\"}}, \"*\")"
      ],
      "text/plain": [
       "<IPython.core.display.Javascript object>"
      ]
     },
     "metadata": {},
     "output_type": "display_data"
    },
    {
     "data": {
      "text/markdown": [
       "<span style=\"color:#33cc33\">Correct</span>"
      ],
      "text/plain": [
       "Correct"
      ]
     },
     "metadata": {},
     "output_type": "display_data"
    }
   ],
   "source": [
    "countries = reviews[\"country\"].unique()\n",
    "\n",
    "# Check your answer\n",
    "q2.check()"
   ]
  },
  {
   "cell_type": "code",
   "execution_count": 5,
   "id": "3df33701",
   "metadata": {
    "execution": {
     "iopub.execute_input": "2022-06-27T22:58:10.309476Z",
     "iopub.status.busy": "2022-06-27T22:58:10.308489Z",
     "iopub.status.idle": "2022-06-27T22:58:10.313400Z",
     "shell.execute_reply": "2022-06-27T22:58:10.312588Z"
    },
    "papermill": {
     "duration": 0.016471,
     "end_time": "2022-06-27T22:58:10.315488",
     "exception": false,
     "start_time": "2022-06-27T22:58:10.299017",
     "status": "completed"
    },
    "tags": []
   },
   "outputs": [],
   "source": [
    "#q2.hint()\n",
    "#q2.solution()"
   ]
  },
  {
   "cell_type": "markdown",
   "id": "fdfddf43",
   "metadata": {
    "papermill": {
     "duration": 0.008296,
     "end_time": "2022-06-27T22:58:10.331910",
     "exception": false,
     "start_time": "2022-06-27T22:58:10.323614",
     "status": "completed"
    },
    "tags": []
   },
   "source": [
    "## 3.\n",
    "How often does each country appear in the dataset? Create a Series `reviews_per_country` mapping countries to the count of reviews of wines from that country."
   ]
  },
  {
   "cell_type": "code",
   "execution_count": 6,
   "id": "85e91a85",
   "metadata": {
    "execution": {
     "iopub.execute_input": "2022-06-27T22:58:10.350408Z",
     "iopub.status.busy": "2022-06-27T22:58:10.349754Z",
     "iopub.status.idle": "2022-06-27T22:58:10.377704Z",
     "shell.execute_reply": "2022-06-27T22:58:10.376612Z"
    },
    "papermill": {
     "duration": 0.039829,
     "end_time": "2022-06-27T22:58:10.380153",
     "exception": false,
     "start_time": "2022-06-27T22:58:10.340324",
     "status": "completed"
    },
    "tags": []
   },
   "outputs": [
    {
     "data": {
      "application/javascript": [
       "parent.postMessage({\"jupyterEvent\": \"custom.exercise_interaction\", \"data\": {\"outcomeType\": 1, \"valueTowardsCompletion\": 0.14285714285714285, \"interactionType\": 1, \"questionType\": 1, \"questionId\": \"3_ReviewsPerCountry\", \"learnToolsVersion\": \"0.3.4\", \"failureMessage\": \"\", \"exceptionClass\": \"\", \"trace\": \"\"}}, \"*\")"
      ],
      "text/plain": [
       "<IPython.core.display.Javascript object>"
      ]
     },
     "metadata": {},
     "output_type": "display_data"
    },
    {
     "data": {
      "text/markdown": [
       "<span style=\"color:#33cc33\">Correct</span>"
      ],
      "text/plain": [
       "Correct"
      ]
     },
     "metadata": {},
     "output_type": "display_data"
    }
   ],
   "source": [
    "reviews_per_country = reviews[\"country\"].value_counts()\n",
    "\n",
    "# Check your answer\n",
    "q3.check()"
   ]
  },
  {
   "cell_type": "code",
   "execution_count": 7,
   "id": "ff83c34c",
   "metadata": {
    "execution": {
     "iopub.execute_input": "2022-06-27T22:58:10.398990Z",
     "iopub.status.busy": "2022-06-27T22:58:10.398244Z",
     "iopub.status.idle": "2022-06-27T22:58:10.402524Z",
     "shell.execute_reply": "2022-06-27T22:58:10.401803Z"
    },
    "papermill": {
     "duration": 0.016224,
     "end_time": "2022-06-27T22:58:10.404617",
     "exception": false,
     "start_time": "2022-06-27T22:58:10.388393",
     "status": "completed"
    },
    "tags": []
   },
   "outputs": [],
   "source": [
    "#q3.hint()\n",
    "#q3.solution()"
   ]
  },
  {
   "cell_type": "markdown",
   "id": "ac45851c",
   "metadata": {
    "papermill": {
     "duration": 0.00822,
     "end_time": "2022-06-27T22:58:10.422231",
     "exception": false,
     "start_time": "2022-06-27T22:58:10.414011",
     "status": "completed"
    },
    "tags": []
   },
   "source": [
    "## 4.\n",
    "Create variable `centered_price` containing a version of the `price` column with the mean price subtracted.\n",
    "\n",
    "(Note: this 'centering' transformation is a common preprocessing step before applying various machine learning algorithms.) "
   ]
  },
  {
   "cell_type": "code",
   "execution_count": 8,
   "id": "b75258e7",
   "metadata": {
    "execution": {
     "iopub.execute_input": "2022-06-27T22:58:10.440973Z",
     "iopub.status.busy": "2022-06-27T22:58:10.440329Z",
     "iopub.status.idle": "2022-06-27T22:58:10.451723Z",
     "shell.execute_reply": "2022-06-27T22:58:10.450666Z"
    },
    "papermill": {
     "duration": 0.023676,
     "end_time": "2022-06-27T22:58:10.454173",
     "exception": false,
     "start_time": "2022-06-27T22:58:10.430497",
     "status": "completed"
    },
    "tags": []
   },
   "outputs": [
    {
     "data": {
      "application/javascript": [
       "parent.postMessage({\"jupyterEvent\": \"custom.exercise_interaction\", \"data\": {\"outcomeType\": 1, \"valueTowardsCompletion\": 0.14285714285714285, \"interactionType\": 1, \"questionType\": 1, \"questionId\": \"4_CenteredPrice\", \"learnToolsVersion\": \"0.3.4\", \"failureMessage\": \"\", \"exceptionClass\": \"\", \"trace\": \"\"}}, \"*\")"
      ],
      "text/plain": [
       "<IPython.core.display.Javascript object>"
      ]
     },
     "metadata": {},
     "output_type": "display_data"
    },
    {
     "data": {
      "text/markdown": [
       "<span style=\"color:#33cc33\">Correct</span>"
      ],
      "text/plain": [
       "Correct"
      ]
     },
     "metadata": {},
     "output_type": "display_data"
    }
   ],
   "source": [
    "centered_price = reviews[\"price\"] - reviews[\"price\"].mean()\n",
    "\n",
    "# Check your answer\n",
    "q4.check()"
   ]
  },
  {
   "cell_type": "code",
   "execution_count": 9,
   "id": "0b8d01ed",
   "metadata": {
    "execution": {
     "iopub.execute_input": "2022-06-27T22:58:10.474297Z",
     "iopub.status.busy": "2022-06-27T22:58:10.473902Z",
     "iopub.status.idle": "2022-06-27T22:58:10.477746Z",
     "shell.execute_reply": "2022-06-27T22:58:10.476940Z"
    },
    "papermill": {
     "duration": 0.016651,
     "end_time": "2022-06-27T22:58:10.479787",
     "exception": false,
     "start_time": "2022-06-27T22:58:10.463136",
     "status": "completed"
    },
    "tags": []
   },
   "outputs": [],
   "source": [
    "#q4.hint()\n",
    "#q4.solution()"
   ]
  },
  {
   "cell_type": "markdown",
   "id": "a60ceb89",
   "metadata": {
    "papermill": {
     "duration": 0.009521,
     "end_time": "2022-06-27T22:58:10.498669",
     "exception": false,
     "start_time": "2022-06-27T22:58:10.489148",
     "status": "completed"
    },
    "tags": []
   },
   "source": [
    "## 5.\n",
    "I'm an economical wine buyer. Which wine is the \"best bargain\"? Create a variable `bargain_wine` with the title of the wine with the highest points-to-price ratio in the dataset."
   ]
  },
  {
   "cell_type": "code",
   "execution_count": 10,
   "id": "a1986cdd",
   "metadata": {
    "execution": {
     "iopub.execute_input": "2022-06-27T22:58:10.519205Z",
     "iopub.status.busy": "2022-06-27T22:58:10.518509Z",
     "iopub.status.idle": "2022-06-27T22:58:10.547246Z",
     "shell.execute_reply": "2022-06-27T22:58:10.546036Z"
    },
    "papermill": {
     "duration": 0.041908,
     "end_time": "2022-06-27T22:58:10.549730",
     "exception": false,
     "start_time": "2022-06-27T22:58:10.507822",
     "status": "completed"
    },
    "tags": []
   },
   "outputs": [
    {
     "data": {
      "application/javascript": [
       "parent.postMessage({\"jupyterEvent\": \"custom.exercise_interaction\", \"data\": {\"outcomeType\": 1, \"valueTowardsCompletion\": 0.14285714285714285, \"interactionType\": 1, \"questionType\": 2, \"questionId\": \"5_BargainWine\", \"learnToolsVersion\": \"0.3.4\", \"failureMessage\": \"\", \"exceptionClass\": \"\", \"trace\": \"\"}}, \"*\")"
      ],
      "text/plain": [
       "<IPython.core.display.Javascript object>"
      ]
     },
     "metadata": {},
     "output_type": "display_data"
    },
    {
     "data": {
      "text/markdown": [
       "<span style=\"color:#33cc33\">Correct</span>"
      ],
      "text/plain": [
       "Correct"
      ]
     },
     "metadata": {},
     "output_type": "display_data"
    }
   ],
   "source": [
    "bargain_wine = reviews[\"title\"][(reviews[\"points\"] / reviews[\"price\"]).sort_values(ascending=False).index[0]]\n",
    "\n",
    "# Check your answer\n",
    "q5.check()"
   ]
  },
  {
   "cell_type": "code",
   "execution_count": 11,
   "id": "0354aa72",
   "metadata": {
    "execution": {
     "iopub.execute_input": "2022-06-27T22:58:10.570703Z",
     "iopub.status.busy": "2022-06-27T22:58:10.569530Z",
     "iopub.status.idle": "2022-06-27T22:58:10.575066Z",
     "shell.execute_reply": "2022-06-27T22:58:10.573769Z"
    },
    "papermill": {
     "duration": 0.01853,
     "end_time": "2022-06-27T22:58:10.577449",
     "exception": false,
     "start_time": "2022-06-27T22:58:10.558919",
     "status": "completed"
    },
    "tags": []
   },
   "outputs": [],
   "source": [
    "#q5.hint()\n",
    "#q5.solution()"
   ]
  },
  {
   "cell_type": "markdown",
   "id": "6bd2af45",
   "metadata": {
    "papermill": {
     "duration": 0.009575,
     "end_time": "2022-06-27T22:58:10.596296",
     "exception": false,
     "start_time": "2022-06-27T22:58:10.586721",
     "status": "completed"
    },
    "tags": []
   },
   "source": [
    "## 6.\n",
    "There are only so many words you can use when describing a bottle of wine. Is a wine more likely to be \"tropical\" or \"fruity\"? Create a Series `descriptor_counts` counting how many times each of these two words appears in the `description` column in the dataset. (For simplicity, let's ignore the capitalized versions of these words.)"
   ]
  },
  {
   "cell_type": "code",
   "execution_count": 12,
   "id": "6ca84941",
   "metadata": {
    "execution": {
     "iopub.execute_input": "2022-06-27T22:58:10.618591Z",
     "iopub.status.busy": "2022-06-27T22:58:10.617761Z",
     "iopub.status.idle": "2022-06-27T22:58:10.880988Z",
     "shell.execute_reply": "2022-06-27T22:58:10.880070Z"
    },
    "papermill": {
     "duration": 0.276681,
     "end_time": "2022-06-27T22:58:10.883583",
     "exception": false,
     "start_time": "2022-06-27T22:58:10.606902",
     "status": "completed"
    },
    "tags": []
   },
   "outputs": [],
   "source": [
    "tropical=reviews[\"description\"].str.contains(\"tropical\",regex=True).sum()\n",
    "fruity=reviews[\"description\"].str.contains(\"fruity\",regex=True).sum()"
   ]
  },
  {
   "cell_type": "code",
   "execution_count": 13,
   "id": "74bea31e",
   "metadata": {
    "execution": {
     "iopub.execute_input": "2022-06-27T22:58:10.904180Z",
     "iopub.status.busy": "2022-06-27T22:58:10.903736Z",
     "iopub.status.idle": "2022-06-27T22:58:10.912737Z",
     "shell.execute_reply": "2022-06-27T22:58:10.911600Z"
    },
    "papermill": {
     "duration": 0.022318,
     "end_time": "2022-06-27T22:58:10.915086",
     "exception": false,
     "start_time": "2022-06-27T22:58:10.892768",
     "status": "completed"
    },
    "tags": []
   },
   "outputs": [
    {
     "data": {
      "text/plain": [
       "tropical    3607\n",
       "fruity      9090\n",
       "dtype: int64"
      ]
     },
     "execution_count": 13,
     "metadata": {},
     "output_type": "execute_result"
    }
   ],
   "source": [
    "pd.Series([tropical,fruity],index=[\"tropical\",\"fruity\"])"
   ]
  },
  {
   "cell_type": "code",
   "execution_count": 14,
   "id": "20205040",
   "metadata": {
    "execution": {
     "iopub.execute_input": "2022-06-27T22:58:10.935217Z",
     "iopub.status.busy": "2022-06-27T22:58:10.934794Z",
     "iopub.status.idle": "2022-06-27T22:58:10.945658Z",
     "shell.execute_reply": "2022-06-27T22:58:10.944595Z"
    },
    "papermill": {
     "duration": 0.023619,
     "end_time": "2022-06-27T22:58:10.947946",
     "exception": false,
     "start_time": "2022-06-27T22:58:10.924327",
     "status": "completed"
    },
    "tags": []
   },
   "outputs": [
    {
     "data": {
      "application/javascript": [
       "parent.postMessage({\"jupyterEvent\": \"custom.exercise_interaction\", \"data\": {\"outcomeType\": 1, \"valueTowardsCompletion\": 0.14285714285714285, \"interactionType\": 1, \"questionType\": 1, \"questionId\": \"6_DescriptorCounts\", \"learnToolsVersion\": \"0.3.4\", \"failureMessage\": \"\", \"exceptionClass\": \"\", \"trace\": \"\"}}, \"*\")"
      ],
      "text/plain": [
       "<IPython.core.display.Javascript object>"
      ]
     },
     "metadata": {},
     "output_type": "display_data"
    },
    {
     "data": {
      "text/markdown": [
       "<span style=\"color:#33cc33\">Correct</span>"
      ],
      "text/plain": [
       "Correct"
      ]
     },
     "metadata": {},
     "output_type": "display_data"
    }
   ],
   "source": [
    "descriptor_counts = pd.Series([tropical,fruity],index=[\"tropical\",\"fruity\"])\n",
    "\n",
    "# Check your answer\n",
    "q6.check()"
   ]
  },
  {
   "cell_type": "code",
   "execution_count": 15,
   "id": "d027fae7",
   "metadata": {
    "execution": {
     "iopub.execute_input": "2022-06-27T22:58:10.968694Z",
     "iopub.status.busy": "2022-06-27T22:58:10.968244Z",
     "iopub.status.idle": "2022-06-27T22:58:10.972787Z",
     "shell.execute_reply": "2022-06-27T22:58:10.971660Z"
    },
    "papermill": {
     "duration": 0.017504,
     "end_time": "2022-06-27T22:58:10.975003",
     "exception": false,
     "start_time": "2022-06-27T22:58:10.957499",
     "status": "completed"
    },
    "tags": []
   },
   "outputs": [],
   "source": [
    "#q6.hint()\n",
    "#q6.solution()"
   ]
  },
  {
   "cell_type": "markdown",
   "id": "3fe9e9ee",
   "metadata": {
    "papermill": {
     "duration": 0.009411,
     "end_time": "2022-06-27T22:58:10.994315",
     "exception": false,
     "start_time": "2022-06-27T22:58:10.984904",
     "status": "completed"
    },
    "tags": []
   },
   "source": [
    "## 7.\n",
    "We'd like to host these wine reviews on our website, but a rating system ranging from 80 to 100 points is too hard to understand - we'd like to translate them into simple star ratings. A score of 95 or higher counts as 3 stars, a score of at least 85 but less than 95 is 2 stars. Any other score is 1 star.\n",
    "\n",
    "Also, the Canadian Vintners Association bought a lot of ads on the site, so any wines from Canada should automatically get 3 stars, regardless of points.\n",
    "\n",
    "Create a series `star_ratings` with the number of stars corresponding to each review in the dataset."
   ]
  },
  {
   "cell_type": "code",
   "execution_count": 16,
   "id": "0a53edff",
   "metadata": {
    "execution": {
     "iopub.execute_input": "2022-06-27T22:58:11.015469Z",
     "iopub.status.busy": "2022-06-27T22:58:11.015092Z",
     "iopub.status.idle": "2022-06-27T22:58:16.193990Z",
     "shell.execute_reply": "2022-06-27T22:58:16.192770Z"
    },
    "papermill": {
     "duration": 5.19241,
     "end_time": "2022-06-27T22:58:16.196339",
     "exception": false,
     "start_time": "2022-06-27T22:58:11.003929",
     "status": "completed"
    },
    "tags": []
   },
   "outputs": [
    {
     "data": {
      "application/javascript": [
       "parent.postMessage({\"jupyterEvent\": \"custom.exercise_interaction\", \"data\": {\"outcomeType\": 1, \"valueTowardsCompletion\": 0.14285714285714285, \"interactionType\": 1, \"questionType\": 1, \"questionId\": \"7_StarRatings\", \"learnToolsVersion\": \"0.3.4\", \"failureMessage\": \"\", \"exceptionClass\": \"\", \"trace\": \"\"}}, \"*\")"
      ],
      "text/plain": [
       "<IPython.core.display.Javascript object>"
      ]
     },
     "metadata": {},
     "output_type": "display_data"
    },
    {
     "data": {
      "text/markdown": [
       "<span style=\"color:#33cc33\">Correct</span>"
      ],
      "text/plain": [
       "Correct"
      ]
     },
     "metadata": {},
     "output_type": "display_data"
    }
   ],
   "source": [
    "def stars(row):\n",
    "    if row.country == 'Canada':\n",
    "        return 3\n",
    "    elif row.points >= 95:\n",
    "        return 3\n",
    "    elif row.points >= 85:\n",
    "        return 2\n",
    "    else:\n",
    "        return 1\n",
    "\n",
    "star_ratings = reviews.apply(stars, axis='columns')\n",
    "\n",
    "# Check your answer\n",
    "q7.check()"
   ]
  },
  {
   "cell_type": "code",
   "execution_count": 17,
   "id": "894ddce8",
   "metadata": {
    "execution": {
     "iopub.execute_input": "2022-06-27T22:58:16.217908Z",
     "iopub.status.busy": "2022-06-27T22:58:16.217458Z",
     "iopub.status.idle": "2022-06-27T22:58:16.222476Z",
     "shell.execute_reply": "2022-06-27T22:58:16.221416Z"
    },
    "papermill": {
     "duration": 0.018607,
     "end_time": "2022-06-27T22:58:16.225004",
     "exception": false,
     "start_time": "2022-06-27T22:58:16.206397",
     "status": "completed"
    },
    "tags": []
   },
   "outputs": [],
   "source": [
    "#q7.hint()\n",
    "#q7.solution()"
   ]
  },
  {
   "cell_type": "markdown",
   "id": "3e25cc3f",
   "metadata": {
    "papermill": {
     "duration": 0.00968,
     "end_time": "2022-06-27T22:58:16.244700",
     "exception": false,
     "start_time": "2022-06-27T22:58:16.235020",
     "status": "completed"
    },
    "tags": []
   },
   "source": [
    "# Keep going\n",
    "Continue to **[grouping and sorting](https://www.kaggle.com/residentmario/grouping-and-sorting)**."
   ]
  },
  {
   "cell_type": "markdown",
   "id": "569cd02b",
   "metadata": {
    "papermill": {
     "duration": 0.009825,
     "end_time": "2022-06-27T22:58:16.264544",
     "exception": false,
     "start_time": "2022-06-27T22:58:16.254719",
     "status": "completed"
    },
    "tags": []
   },
   "source": [
    "---\n",
    "\n",
    "\n",
    "\n",
    "\n",
    "*Have questions or comments? Visit the [course discussion forum](https://www.kaggle.com/learn/pandas/discussion) to chat with other learners.*"
   ]
  }
 ],
 "metadata": {
  "kernelspec": {
   "display_name": "Python 3",
   "language": "python",
   "name": "python3"
  },
  "language_info": {
   "codemirror_mode": {
    "name": "ipython",
    "version": 3
   },
   "file_extension": ".py",
   "mimetype": "text/x-python",
   "name": "python",
   "nbconvert_exporter": "python",
   "pygments_lexer": "ipython3",
   "version": "3.7.12"
  },
  "papermill": {
   "default_parameters": {},
   "duration": 24.999732,
   "end_time": "2022-06-27T22:58:16.996899",
   "environment_variables": {},
   "exception": null,
   "input_path": "__notebook__.ipynb",
   "output_path": "__notebook__.ipynb",
   "parameters": {},
   "start_time": "2022-06-27T22:57:51.997167",
   "version": "2.3.4"
  }
 },
 "nbformat": 4,
 "nbformat_minor": 5
}
